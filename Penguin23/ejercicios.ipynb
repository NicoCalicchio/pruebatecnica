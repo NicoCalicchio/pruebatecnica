{
 "cells": [
  {
   "cell_type": "markdown",
   "metadata": {},
   "source": [
    "EJERCICIO 1: Los estudiantes consultan la nota que recibirán según las calificaciones que obtuvieron"
   ]
  },
  {
   "cell_type": "code",
   "execution_count": 2,
   "metadata": {},
   "outputs": [
    {
     "name": "stdout",
     "output_type": "stream",
     "text": [
      "Su promedio es de: 1.6666666666666667\n",
      "Aprobado\n"
     ]
    }
   ],
   "source": [
    "#Se le pide al estudiante que cargue las calificaciones de sus 2 parciales y examen final\n",
    "calificacion1 = float(input(\"Cargue la calificación del primer parcial\"))\n",
    "calificacion2 = float(input(\"Cargue la calificación del segundo parcial\"))\n",
    "calificacion3 = float(input(\"Cargue la calificación de la evaluación final\"))\n",
    "\n",
    "#Se calcula el promedio de sus exámenes para obtener una nota final\n",
    "promedio = (calificacion1+calificacion2+calificacion3)/3\n",
    "print(\"Su promedio es de:\", promedio)\n",
    "\n",
    "#Se indica si el estudiante ha aprobado o no la asignatura\n",
    "if promedio <= 1: \n",
    "    print(\"Aplazado\")\n",
    "else:\n",
    "    print(\"Aprobado\")"
   ]
  },
  {
   "cell_type": "markdown",
   "metadata": {},
   "source": [
    "EJERCICIO 2: Escribir un programa en el que se pregunte al usuario por una frase y una letra, y muestre por pantalla el número de veces que aparece la letra en la frase, seguido del porcentaje de veces que aparece la letra en la frase."
   ]
  },
  {
   "cell_type": "code",
   "execution_count": 52,
   "metadata": {},
   "outputs": [
    {
     "name": "stdout",
     "output_type": "stream",
     "text": [
      "La frase es: holaaaa\n",
      "Se encontro: 4 letras a en la frase ingresada\n"
     ]
    }
   ],
   "source": [
    "#Se solicita al usuario que ingrese la frase que desea examinar\n",
    "frase = (input(\"INGRESE SU FRASE FAVORITA\"))\n",
    "numero_frase = frase\n",
    "\n",
    "#Se solicita al usuario que ingrese la letra que desea examinar dentro de la frase\n",
    "letra = (input(\"INGRESE LA LETRA QUE DESEA BUSCAR\"))\n",
    "letra_buscada = letra\n",
    "\n",
    "#Se muestra al usuario el resultado de la busqueda\n",
    "print(\"La frase es:\", frase)\n",
    "print(\"Se encontro:\", frase.count(letra), \"letras\", letra_buscada, \"en la frase ingresada\")\n",
    "\n",
    "#intentos no logrados para terminar el ejercicio\n",
    "#int(\"letra_buscada\") = \n",
    "\n",
    "# caracteres = len(frase)\n",
    "\n",
    "# letra_buscada.count()\n",
    "# frase.count()\n",
    "\n",
    "# porcentaje = letra_buscada/frase\n",
    "\n"
   ]
  },
  {
   "cell_type": "markdown",
   "metadata": {},
   "source": [
    "EJERCICIO 3: Crear una funcion para validación de nombres de usuarios.\n",
    "#Dicha funcion deberá validar lo siguiente:\n",
    "\n",
    "- El nombre de usuario debe contener un mínimo de 6 caracteres y un máximo de 12.\n",
    "- El nombre de usuario debe ser alfanumérico.\n",
    "- Nombre de usuario con menos de 6 caracteres, retorna el mensaje 'El nombre de usuario debe contener al menos 6 caracteres'.\n",
    "- Nombre de usuario con más de 12 caracteres, retorna el mensaje 'El nombre de usuario no puede contener más de 12 caracteres'.\n",
    "- Nombre de usuario con caracteres distintos a los alfanuméricos, retorna el mensaje 'El nombre de usuario puede contener solo letras y números'.\n",
    "- Nombre de usuario válido, retorna 'Correcto!'"
   ]
  },
  {
   "cell_type": "code",
   "execution_count": 50,
   "metadata": {},
   "outputs": [
    {
     "name": "stdout",
     "output_type": "stream",
     "text": [
      "Correcto!\n"
     ]
    }
   ],
   "source": [
    "#Se solicita ingresar el nombre de usuario deseado\n",
    "usuario = input(\"Ingrese el nombre de usuario\")\n",
    "\n",
    "#Se lee la cantidad de caracteres ingresado\n",
    "caracteres = len(usuario)\n",
    "\n",
    "#Se determina que el nombre solo puede ser alfanumerico\n",
    "alfanumerico = usuario.isalnum()\n",
    "if alfanumerico == True:         \n",
    "    if caracteres < 6:                                                      #conidcion de: no menor a 6\n",
    "        print(\"El nombre de usuario debe contener al menos 6 caracteres\")\n",
    "    elif caracteres > 12:                                                   #condicion de: no mayor a 12\n",
    "        print(\"El nombre de usuario no puede contener más de 12 caracteres\")\n",
    "    else:                                                                   #se verifica que la 'longitud' sea ok\n",
    "        print(\"Correcto!\")\n",
    "else:                                                                       #se verifica y condiciona que los caracteres sean solo alfanumericos\n",
    "    print(\"El nombre de usuario puede contener solo letras y números\")\n"
   ]
  },
  {
   "cell_type": "markdown",
   "metadata": {},
   "source": [
    "EJERCICIO 4: Escribe algún código para determinar si un número es un número Armstrong"
   ]
  },
  {
   "cell_type": "code",
   "execution_count": null,
   "metadata": {},
   "outputs": [],
   "source": []
  }
 ],
 "metadata": {
  "kernelspec": {
   "display_name": "Python 3.10.6 64-bit",
   "language": "python",
   "name": "python3"
  },
  "language_info": {
   "codemirror_mode": {
    "name": "ipython",
    "version": 3
   },
   "file_extension": ".py",
   "mimetype": "text/x-python",
   "name": "python",
   "nbconvert_exporter": "python",
   "pygments_lexer": "ipython3",
   "version": "3.10.6"
  },
  "orig_nbformat": 4,
  "vscode": {
   "interpreter": {
    "hash": "51fce761cdf0c71a590d089a4a8e7a9eb4c2a9aa13c3139d982ae8dd200d7811"
   }
  }
 },
 "nbformat": 4,
 "nbformat_minor": 2
}
